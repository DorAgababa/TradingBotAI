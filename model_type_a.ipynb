{
 "cells": [
  {
   "cell_type": "code",
   "execution_count": 4,
   "metadata": {},
   "outputs": [],
   "source": [
    "import polars as pl\n",
    "import pandas as pd\n",
    "import numpy as np\n",
    "from enum import Enum\n",
    "%matplotlib inline\n",
    "import matplotlib.pyplot as plt\n",
    "import sklearn.preprocessing as preprocessing\n",
    "\n",
    "def read_data(train_file = 'train_data.csv', val_file = 'val_data.csv', test_file = 'test_data.csv'):\n",
    "    train_data = pl.read_csv(train_file)\n",
    "    val_data = pl.read_csv(val_file)\n",
    "    test_data = pl.read_csv(test_file)\n",
    "    return train_data, val_data, test_data\n",
    "\n",
    "#get data of x and y and return x and y, slice y\n",
    "def extract_y(data):\n",
    "    y = data['next_5_min']\n",
    "    x = data.drop('next_5_min')\n",
    "    return x,y\n",
    "\n",
    "\n",
    "#we should not use min max scale cause the max changing over the time.\n",
    "#we need to deal with two kinds of things : 1. train data - we need to create a scaler and fit it to the train, and then create a normalized data , 2. test/validation data - we should get as input the scaler of the train, and do normalize by him\n",
    "def min_max_scaler(data):\n",
    "    scaler = preprocessing.MinMaxScaler()\n",
    "    scaled_data = scaler.fit_transform(data)\n",
    "    return scaled_data, scaler\n",
    "\n",
    "def z_score_normalize(data):\n",
    "    scaler = preprocessing.StandardScaler()\n",
    "    scaled_data = scaler.fit_transform(data)\n",
    "    return scaled_data, scaler\n",
    "    \n",
    "def scale_back(data, scaler):\n",
    "    return scaler.inverse_transform(data)"
   ]
  },
  {
   "cell_type": "code",
   "execution_count": 5,
   "metadata": {},
   "outputs": [],
   "source": [
    "train_data, val_data, test_data = read_data()\n",
    "x_train, y_train = extract_y(train_data)\n",
    "x_val, y_val = extract_y(val_data)\n",
    "x_test, y_test = extract_y(test_data)\n"
   ]
  },
  {
   "cell_type": "code",
   "execution_count": 7,
   "metadata": {},
   "outputs": [
    {
     "name": "stdout",
     "output_type": "stream",
     "text": [
      "shape: (19_800, 6)\n",
      "┌──────────┬──────────────┬──────────────┬───────────┬────────────┬────────────┐\n",
      "│ close    ┆ ema5         ┆ ema20        ┆ macd520   ┆ date_only  ┆ next_5_min │\n",
      "│ ---      ┆ ---          ┆ ---          ┆ ---       ┆ ---        ┆ ---        │\n",
      "│ f64      ┆ f64          ┆ f64          ┆ f64       ┆ str        ┆ f64        │\n",
      "╞══════════╪══════════════╪══════════════╪═══════════╪════════════╪════════════╡\n",
      "│ 8747.5   ┆ 8736.397692  ┆ 8731.307373  ┆ 5.090319  ┆ 2015-01-22 ┆ 8747.6     │\n",
      "│ 8747.6   ┆ 8747.842083  ┆ 8738.540436  ┆ 9.301647  ┆ 2015-01-22 ┆ 8744.5     │\n",
      "│ 8738.4   ┆ 8743.221591  ┆ 8740.490543  ┆ 2.731048  ┆ 2015-01-22 ┆ 8742.15    │\n",
      "│ 8737.15  ┆ 8740.999757  ┆ 8740.89575   ┆ 0.104007  ┆ 2015-01-22 ┆ 8741.4     │\n",
      "│ 8749.4   ┆ 8744.610256  ┆ 8742.00373   ┆ 2.606526  ┆ 2015-01-22 ┆ 8750.65    │\n",
      "│ …        ┆ …            ┆ …            ┆ …         ┆ …          ┆ …          │\n",
      "│ 17306.9  ┆ 17312.369659 ┆ 17316.507704 ┆ -4.138045 ┆ 2022-10-07 ┆ 17303.5    │\n",
      "│ 17311.95 ┆ 17309.101972 ┆ 17312.741656 ┆ -3.639685 ┆ 2022-10-07 ┆ 17313.05   │\n",
      "│ 17311.0  ┆ 17310.087502 ┆ 17311.944626 ┆ -1.857123 ┆ 2022-10-07 ┆ 17310.05   │\n",
      "│ 17312.65 ┆ 17311.124074 ┆ 17311.562165 ┆ -0.438091 ┆ 2022-10-07 ┆ 17315.65   │\n",
      "│ 17319.25 ┆ 17318.500907 ┆ 17314.519102 ┆ 3.981805  ┆ 2022-10-07 ┆ 17318.6    │\n",
      "└──────────┴──────────────┴──────────────┴───────────┴────────────┴────────────┘\n"
     ]
    }
   ],
   "source": [
    "#lets normalize the data\n",
    "print(test_data)"
   ]
  }
 ],
 "metadata": {
  "kernelspec": {
   "display_name": "Python 3",
   "language": "python",
   "name": "python3"
  },
  "language_info": {
   "codemirror_mode": {
    "name": "ipython",
    "version": 3
   },
   "file_extension": ".py",
   "mimetype": "text/x-python",
   "name": "python",
   "nbconvert_exporter": "python",
   "pygments_lexer": "ipython3",
   "version": "3.12.4"
  }
 },
 "nbformat": 4,
 "nbformat_minor": 2
}
