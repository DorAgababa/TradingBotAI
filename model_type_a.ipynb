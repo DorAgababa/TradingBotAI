{
 "cells": [
  {
   "cell_type": "code",
   "execution_count": 58,
   "metadata": {},
   "outputs": [],
   "source": [
    "import polars as pl\n",
    "import pandas as pd\n",
    "import numpy as np\n",
    "from enum import Enum\n",
    "%matplotlib inline\n",
    "import matplotlib.pyplot as plt\n",
    "import sklearn.preprocessing as preprocessing\n",
    "\n",
    "columns_to_normalize = [\"close\", \"ema5\", \"ema20\", \"macd520\"]\n",
    "\n",
    "def read_data(train_file = 'train_data.csv', val_file = 'val_data.csv', test_file = 'test_data.csv'):\n",
    "    train_data = pl.read_csv(train_file)\n",
    "    val_data = pl.read_csv(val_file)\n",
    "    test_data = pl.read_csv(test_file)\n",
    "    return train_data, val_data, test_data\n",
    "\n",
    "#get data of x and y and return x and y, slice y\n",
    "def extract_y(data):\n",
    "    y = data['next_5_min']\n",
    "    x = data.drop('next_5_min')\n",
    "    return x,y\n",
    "\n",
    "\n",
    "#we should not use min max scale cause the max changing over the time.\n",
    "#we need to deal with two kinds of things : 1. train data - we need to create a scaler and fit it to the train, and then create a normalized data , 2. test/validation data - we should get as input the scaler of the train, and do normalize by him\n",
    "def min_max_scaler(data):\n",
    "    scaler = preprocessing.MinMaxScaler()\n",
    "    scaled_data = scaler.fit_transform(data)\n",
    "    return scaled_data, scaler\n",
    "\n",
    "def z_score_normalize(data):\n",
    "    scaler = preprocessing.StandardScaler()\n",
    "    scaled_data = scaler.fit_transform(data)\n",
    "    return scaled_data, scaler\n",
    "    \n",
    "def scale_back(data, scaler):\n",
    "    return scaler.inverse_transform(data)\n",
    "\n",
    "def normalized_x_y(x: pl.DataFrame, y: pl.DataFrame, columns_to_normalize: list):\n",
    "    # Convert Polars DataFrame to NumPy array for normalization\n",
    "    x_values = x.select(columns_to_normalize).to_numpy()\n",
    "    y_values = y.to_numpy().reshape(-1, 1)\n",
    "    # Normalize\n",
    "    normalized_x_values, scaler_x = z_score_normalize(x_values)\n",
    "    normalized_y_values, scaler_y = z_score_normalize(y_values)\n",
    "    # Convert back to Polars DataFrame\n",
    "    normalized_x = pl.DataFrame(normalized_x_values, schema=columns_to_normalize)\n",
    "    normalized_y = pl.DataFrame(normalized_y_values, schema=['normalized_y'])\n",
    "\n",
    "    return normalized_x, normalized_y, scaler_x, scaler_y"
   ]
  },
  {
   "cell_type": "code",
   "execution_count": 59,
   "metadata": {},
   "outputs": [],
   "source": [
    "train_data, val_data, test_data = read_data()\n",
    "x_train, y_train = extract_y(train_data)\n",
    "x_val, y_val = extract_y(val_data)\n",
    "x_test, y_test = extract_y(test_data)\n"
   ]
  },
  {
   "cell_type": "code",
   "execution_count": 60,
   "metadata": {},
   "outputs": [
    {
     "name": "stdout",
     "output_type": "stream",
     "text": [
      "shape: (3, 4)\n",
      "┌───────────┬───────────┬───────────┬──────────┐\n",
      "│ close     ┆ ema5      ┆ ema20     ┆ macd520  │\n",
      "│ ---       ┆ ---       ┆ ---       ┆ ---      │\n",
      "│ f64       ┆ f64       ┆ f64       ┆ f64      │\n",
      "╞═══════════╪═══════════╪═══════════╪══════════╡\n",
      "│ -0.862746 ┆ -0.865432 ┆ -0.86851  ┆ 1.076178 │\n",
      "│ -0.858736 ┆ -0.860492 ┆ -0.865335 ┆ 1.698643 │\n",
      "│ -0.860193 ┆ -0.861329 ┆ -0.863936 ┆ 0.910139 │\n",
      "└───────────┴───────────┴───────────┴──────────┘\n",
      "shape: (3, 1)\n",
      "┌──────────────┐\n",
      "│ normalized_y │\n",
      "│ ---          │\n",
      "│ f64          │\n",
      "╞══════════════╡\n",
      "│ -0.863859    │\n",
      "│ -0.861666    │\n",
      "│ -0.857984    │\n",
      "└──────────────┘\n"
     ]
    }
   ],
   "source": [
    "# Split data to train val and test and normalize the data\n",
    "x_train, y_train, x_train_scaler, y_train_scaler = normalized_x_y(x_train, y_train, columns_to_normalize)\n",
    "x_test, y_test, x_test_scaler, y_test_scaler = normalized_x_y(x_val, y_val, columns_to_normalize)\n",
    "x_val, y_val, x_val_scaler, y_val_scaler = normalized_x_y(x_test, y_test, columns_to_normalize)\n",
    "print(x_test[:3])\n",
    "print(y_test[:3])\n"
   ]
  }
 ],
 "metadata": {
  "kernelspec": {
   "display_name": "Python 3",
   "language": "python",
   "name": "python3"
  },
  "language_info": {
   "codemirror_mode": {
    "name": "ipython",
    "version": 3
   },
   "file_extension": ".py",
   "mimetype": "text/x-python",
   "name": "python",
   "nbconvert_exporter": "python",
   "pygments_lexer": "ipython3",
   "version": "3.12.4"
  }
 },
 "nbformat": 4,
 "nbformat_minor": 2
}
